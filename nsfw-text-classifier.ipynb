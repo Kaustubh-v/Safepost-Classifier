{
 "cells": [
  {
   "cell_type": "code",
   "execution_count": 35,
   "metadata": {
    "papermill": {
     "duration": 0.874289,
     "end_time": "2022-06-23T07:33:40.197657",
     "exception": false,
     "start_time": "2022-06-23T07:33:39.323368",
     "status": "completed"
    },
    "tags": []
   },
   "outputs": [
    {
     "name": "stdout",
     "output_type": "stream",
     "text": [
      "Epoch 1/20\n",
      "328/328 [==============================] - 4s 10ms/step - loss: 0.6548 - accuracy: 0.6122\n",
      "Epoch 2/20\n",
      "328/328 [==============================] - 3s 10ms/step - loss: 0.6066 - accuracy: 0.6533\n",
      "Epoch 3/20\n",
      "328/328 [==============================] - 3s 10ms/step - loss: 0.5707 - accuracy: 0.6886\n",
      "Epoch 4/20\n",
      "328/328 [==============================] - 3s 10ms/step - loss: 0.5495 - accuracy: 0.7052\n",
      "Epoch 5/20\n",
      "328/328 [==============================] - 3s 10ms/step - loss: 0.5340 - accuracy: 0.7174\n",
      "Epoch 6/20\n",
      "328/328 [==============================] - 3s 10ms/step - loss: 0.5205 - accuracy: 0.7293\n",
      "Epoch 7/20\n",
      "328/328 [==============================] - 3s 10ms/step - loss: 0.5078 - accuracy: 0.7397\n",
      "Epoch 8/20\n",
      "328/328 [==============================] - 3s 10ms/step - loss: 0.4975 - accuracy: 0.7453\n",
      "Epoch 9/20\n",
      "328/328 [==============================] - 3s 10ms/step - loss: 0.4880 - accuracy: 0.7532\n",
      "Epoch 10/20\n",
      "328/328 [==============================] - 3s 10ms/step - loss: 0.4775 - accuracy: 0.7600\n",
      "Epoch 11/20\n",
      "328/328 [==============================] - 4s 11ms/step - loss: 0.4686 - accuracy: 0.7667\n",
      "Epoch 12/20\n",
      "328/328 [==============================] - 4s 11ms/step - loss: 0.4614 - accuracy: 0.7712\n",
      "Epoch 13/20\n",
      "328/328 [==============================] - 4s 12ms/step - loss: 0.4541 - accuracy: 0.7754\n",
      "Epoch 14/20\n",
      "328/328 [==============================] - 4s 12ms/step - loss: 0.4459 - accuracy: 0.7811\n",
      "Epoch 15/20\n",
      "328/328 [==============================] - 4s 12ms/step - loss: 0.4385 - accuracy: 0.7851\n",
      "Epoch 16/20\n",
      "328/328 [==============================] - 4s 12ms/step - loss: 0.4311 - accuracy: 0.7904\n",
      "Epoch 17/20\n",
      "328/328 [==============================] - 4s 12ms/step - loss: 0.4248 - accuracy: 0.7936\n",
      "Epoch 18/20\n",
      "328/328 [==============================] - 4s 12ms/step - loss: 0.4195 - accuracy: 0.7969\n",
      "Epoch 19/20\n",
      "328/328 [==============================] - 4s 12ms/step - loss: 0.4142 - accuracy: 0.7998\n",
      "Epoch 20/20\n",
      "328/328 [==============================] - 4s 12ms/step - loss: 0.4088 - accuracy: 0.8031\n",
      "1746/1746 [==============================] - 2s 940us/step - loss: 0.5794 - accuracy: 0.6996\n",
      "1/1 [==============================] - 0s 29ms/step\n",
      "Predicted probability: [[0.64587134]]\n"
     ]
    }
   ],
   "source": [
    "import pandas as pd\n",
    "import tensorflow as tf\n",
    "import numpy as np\n",
    "\n",
    "# Load dataset\n",
    "dataset = pd.read_csv('textdata/reddit_200k_train.csv', encoding=\"ISO-8859-1\")\n",
    "raw_train_input = dataset['body']\n",
    "raw_train_output = dataset['REMOVED']\n",
    "\n",
    "# Tokenization\n",
    "tokenizer = tf.keras.preprocessing.text.Tokenizer(num_words=80000)\n",
    "tokenizer.fit_on_texts(raw_train_input)\n",
    "word_index = tokenizer.word_index\n",
    "\n",
    "# Preprocess data\n",
    "X_train = tokenizer.texts_to_sequences(raw_train_input)\n",
    "X_train = tf.keras.preprocessing.sequence.pad_sequences(X_train, padding='post', maxlen=255)\n",
    "y_train = np.array(raw_train_output, dtype=np.uint8)\n",
    "\n",
    "# Define model\n",
    "model = tf.keras.Sequential([\n",
    "    tf.keras.layers.Embedding(80000, 16),\n",
    "    tf.keras.layers.GlobalAveragePooling1D(),\n",
    "    tf.keras.layers.Dense(16, activation='relu'),\n",
    "    tf.keras.layers.Dropout(0.2),  # Dropout for regularization\n",
    "    tf.keras.layers.Dense(1, activation='sigmoid')\n",
    "])\n",
    "\n",
    "# Compile model\n",
    "model.compile(optimizer='adam', loss='binary_crossentropy', metrics=['accuracy'])\n",
    "\n",
    "# Train model\n",
    "model.fit(X_train, y_train, epochs=20, batch_size=512, verbose=1)\n",
    "\n",
    "# Evaluate model\n",
    "test_dataset = pd.read_csv('textdata/reddit_200k_test.csv', encoding=\"ISO-8859-1\")\n",
    "raw_test_input = test_dataset['body']\n",
    "raw_test_output = test_dataset['REMOVED']\n",
    "\n",
    "X_test = tokenizer.texts_to_sequences(raw_test_input)\n",
    "X_test = tf.keras.preprocessing.sequence.pad_sequences(X_test, padding='post', maxlen=255)\n",
    "y_test = np.array(raw_test_output, dtype=np.uint8)\n",
    "\n",
    "model.evaluate(X_test, y_test)\n"
   ]
  },
  {
   "cell_type": "code",
   "execution_count": 43,
   "metadata": {
    "papermill": {
     "duration": 0.884504,
     "end_time": "2022-06-23T07:33:41.968127",
     "exception": false,
     "start_time": "2022-06-23T07:33:41.083623",
     "status": "completed"
    },
    "tags": []
   },
   "outputs": [
    {
     "name": "stdout",
     "output_type": "stream",
     "text": [
      "1/1 [==============================] - 0s 12ms/step\n",
      "Predicted probability: [[0.57018346]]\n"
     ]
    }
   ],
   "source": [
    "sample_text = [\"you are a good person\"]\n",
    "encoded_text = tokenizer.texts_to_sequences(sample_text)\n",
    "padded_text = tf.keras.preprocessing.sequence.pad_sequences(encoded_text, padding='post', maxlen=255)\n",
    "result = model.predict(padded_text)\n",
    "print(\"Predicted probability:\", result)"
   ]
  },
  {
   "cell_type": "code",
   "execution_count": 40,
   "metadata": {},
   "outputs": [
    {
     "name": "stdout",
     "output_type": "stream",
     "text": [
      "1746/1746 [==============================] - 2s 1ms/step - loss: 0.5794 - accuracy: 0.6996\n",
      "Test Accuracy: 0.6996221542358398\n"
     ]
    }
   ],
   "source": [
    "loss, accuracy = model.evaluate(X_test, y_test)\n",
    "print(\"Test Accuracy:\", accuracy)\n"
   ]
  },
  {
   "cell_type": "code",
   "execution_count": null,
   "metadata": {},
   "outputs": [],
   "source": []
  }
 ],
 "metadata": {
  "kernelspec": {
   "display_name": "Python 3 (ipykernel)",
   "language": "python",
   "name": "python3"
  },
  "language_info": {
   "codemirror_mode": {
    "name": "ipython",
    "version": 3
   },
   "file_extension": ".py",
   "mimetype": "text/x-python",
   "name": "python",
   "nbconvert_exporter": "python",
   "pygments_lexer": "ipython3",
   "version": "3.10.12"
  },
  "papermill": {
   "duration": 193.404665,
   "end_time": "2022-06-23T07:33:43.075191",
   "environment_variables": {},
   "exception": null,
   "input_path": "__notebook__.ipynb",
   "output_path": "__notebook__.ipynb",
   "parameters": {},
   "start_time": "2022-06-23T07:30:29.670526",
   "version": "2.1.0"
  }
 },
 "nbformat": 4,
 "nbformat_minor": 4
}
